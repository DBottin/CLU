{
  "cells": [
    {
      "cell_type": "code",
      "execution_count": 1,
      "metadata": {
        "collapsed": true,
        "id": "9pXpE1X7Uiy0",
        "colab": {
          "base_uri": "https://localhost:8080/",
          "height": 424
        },
        "outputId": "4e6816c0-b377-4c63-c31f-0197775c65d6"
      },
      "outputs": [
        {
          "output_type": "execute_result",
          "data": {
            "text/plain": [
              "          V1         V2         V3\n",
              "0  -5.340236   4.747246   3.823326\n",
              "1  -9.587065  -3.434466   9.701839\n",
              "2  -8.385012  -3.902794   8.514620\n",
              "3   5.708226   2.658575   5.404482\n",
              "4  -7.431665  -4.390251   9.003216\n",
              "..       ...        ...        ...\n",
              "95  5.240474   2.983800   5.104915\n",
              "96 -1.675543   3.780111  -8.060940\n",
              "97  2.979751  10.772783 -10.093143\n",
              "98 -5.154519   5.976515   2.794622\n",
              "99 -4.878509   5.096635   5.659783\n",
              "\n",
              "[100 rows x 3 columns]"
            ],
            "text/html": [
              "\n",
              "  <div id=\"df-33a2d913-9e1f-45a3-b7d7-c298f26dff5c\">\n",
              "    <div class=\"colab-df-container\">\n",
              "      <div>\n",
              "<style scoped>\n",
              "    .dataframe tbody tr th:only-of-type {\n",
              "        vertical-align: middle;\n",
              "    }\n",
              "\n",
              "    .dataframe tbody tr th {\n",
              "        vertical-align: top;\n",
              "    }\n",
              "\n",
              "    .dataframe thead th {\n",
              "        text-align: right;\n",
              "    }\n",
              "</style>\n",
              "<table border=\"1\" class=\"dataframe\">\n",
              "  <thead>\n",
              "    <tr style=\"text-align: right;\">\n",
              "      <th></th>\n",
              "      <th>V1</th>\n",
              "      <th>V2</th>\n",
              "      <th>V3</th>\n",
              "    </tr>\n",
              "  </thead>\n",
              "  <tbody>\n",
              "    <tr>\n",
              "      <th>0</th>\n",
              "      <td>-5.340236</td>\n",
              "      <td>4.747246</td>\n",
              "      <td>3.823326</td>\n",
              "    </tr>\n",
              "    <tr>\n",
              "      <th>1</th>\n",
              "      <td>-9.587065</td>\n",
              "      <td>-3.434466</td>\n",
              "      <td>9.701839</td>\n",
              "    </tr>\n",
              "    <tr>\n",
              "      <th>2</th>\n",
              "      <td>-8.385012</td>\n",
              "      <td>-3.902794</td>\n",
              "      <td>8.514620</td>\n",
              "    </tr>\n",
              "    <tr>\n",
              "      <th>3</th>\n",
              "      <td>5.708226</td>\n",
              "      <td>2.658575</td>\n",
              "      <td>5.404482</td>\n",
              "    </tr>\n",
              "    <tr>\n",
              "      <th>4</th>\n",
              "      <td>-7.431665</td>\n",
              "      <td>-4.390251</td>\n",
              "      <td>9.003216</td>\n",
              "    </tr>\n",
              "    <tr>\n",
              "      <th>...</th>\n",
              "      <td>...</td>\n",
              "      <td>...</td>\n",
              "      <td>...</td>\n",
              "    </tr>\n",
              "    <tr>\n",
              "      <th>95</th>\n",
              "      <td>5.240474</td>\n",
              "      <td>2.983800</td>\n",
              "      <td>5.104915</td>\n",
              "    </tr>\n",
              "    <tr>\n",
              "      <th>96</th>\n",
              "      <td>-1.675543</td>\n",
              "      <td>3.780111</td>\n",
              "      <td>-8.060940</td>\n",
              "    </tr>\n",
              "    <tr>\n",
              "      <th>97</th>\n",
              "      <td>2.979751</td>\n",
              "      <td>10.772783</td>\n",
              "      <td>-10.093143</td>\n",
              "    </tr>\n",
              "    <tr>\n",
              "      <th>98</th>\n",
              "      <td>-5.154519</td>\n",
              "      <td>5.976515</td>\n",
              "      <td>2.794622</td>\n",
              "    </tr>\n",
              "    <tr>\n",
              "      <th>99</th>\n",
              "      <td>-4.878509</td>\n",
              "      <td>5.096635</td>\n",
              "      <td>5.659783</td>\n",
              "    </tr>\n",
              "  </tbody>\n",
              "</table>\n",
              "<p>100 rows × 3 columns</p>\n",
              "</div>\n",
              "      <button class=\"colab-df-convert\" onclick=\"convertToInteractive('df-33a2d913-9e1f-45a3-b7d7-c298f26dff5c')\"\n",
              "              title=\"Convert this dataframe to an interactive table.\"\n",
              "              style=\"display:none;\">\n",
              "        \n",
              "  <svg xmlns=\"http://www.w3.org/2000/svg\" height=\"24px\"viewBox=\"0 0 24 24\"\n",
              "       width=\"24px\">\n",
              "    <path d=\"M0 0h24v24H0V0z\" fill=\"none\"/>\n",
              "    <path d=\"M18.56 5.44l.94 2.06.94-2.06 2.06-.94-2.06-.94-.94-2.06-.94 2.06-2.06.94zm-11 1L8.5 8.5l.94-2.06 2.06-.94-2.06-.94L8.5 2.5l-.94 2.06-2.06.94zm10 10l.94 2.06.94-2.06 2.06-.94-2.06-.94-.94-2.06-.94 2.06-2.06.94z\"/><path d=\"M17.41 7.96l-1.37-1.37c-.4-.4-.92-.59-1.43-.59-.52 0-1.04.2-1.43.59L10.3 9.45l-7.72 7.72c-.78.78-.78 2.05 0 2.83L4 21.41c.39.39.9.59 1.41.59.51 0 1.02-.2 1.41-.59l7.78-7.78 2.81-2.81c.8-.78.8-2.07 0-2.86zM5.41 20L4 18.59l7.72-7.72 1.47 1.35L5.41 20z\"/>\n",
              "  </svg>\n",
              "      </button>\n",
              "      \n",
              "  <style>\n",
              "    .colab-df-container {\n",
              "      display:flex;\n",
              "      flex-wrap:wrap;\n",
              "      gap: 12px;\n",
              "    }\n",
              "\n",
              "    .colab-df-convert {\n",
              "      background-color: #E8F0FE;\n",
              "      border: none;\n",
              "      border-radius: 50%;\n",
              "      cursor: pointer;\n",
              "      display: none;\n",
              "      fill: #1967D2;\n",
              "      height: 32px;\n",
              "      padding: 0 0 0 0;\n",
              "      width: 32px;\n",
              "    }\n",
              "\n",
              "    .colab-df-convert:hover {\n",
              "      background-color: #E2EBFA;\n",
              "      box-shadow: 0px 1px 2px rgba(60, 64, 67, 0.3), 0px 1px 3px 1px rgba(60, 64, 67, 0.15);\n",
              "      fill: #174EA6;\n",
              "    }\n",
              "\n",
              "    [theme=dark] .colab-df-convert {\n",
              "      background-color: #3B4455;\n",
              "      fill: #D2E3FC;\n",
              "    }\n",
              "\n",
              "    [theme=dark] .colab-df-convert:hover {\n",
              "      background-color: #434B5C;\n",
              "      box-shadow: 0px 1px 3px 1px rgba(0, 0, 0, 0.15);\n",
              "      filter: drop-shadow(0px 1px 2px rgba(0, 0, 0, 0.3));\n",
              "      fill: #FFFFFF;\n",
              "    }\n",
              "  </style>\n",
              "\n",
              "      <script>\n",
              "        const buttonEl =\n",
              "          document.querySelector('#df-33a2d913-9e1f-45a3-b7d7-c298f26dff5c button.colab-df-convert');\n",
              "        buttonEl.style.display =\n",
              "          google.colab.kernel.accessAllowed ? 'block' : 'none';\n",
              "\n",
              "        async function convertToInteractive(key) {\n",
              "          const element = document.querySelector('#df-33a2d913-9e1f-45a3-b7d7-c298f26dff5c');\n",
              "          const dataTable =\n",
              "            await google.colab.kernel.invokeFunction('convertToInteractive',\n",
              "                                                     [key], {});\n",
              "          if (!dataTable) return;\n",
              "\n",
              "          const docLinkHtml = 'Like what you see? Visit the ' +\n",
              "            '<a target=\"_blank\" href=https://colab.research.google.com/notebooks/data_table.ipynb>data table notebook</a>'\n",
              "            + ' to learn more about interactive tables.';\n",
              "          element.innerHTML = '';\n",
              "          dataTable['output_type'] = 'display_data';\n",
              "          await google.colab.output.renderOutput(dataTable, element);\n",
              "          const docLink = document.createElement('div');\n",
              "          docLink.innerHTML = docLinkHtml;\n",
              "          element.appendChild(docLink);\n",
              "        }\n",
              "      </script>\n",
              "    </div>\n",
              "  </div>\n",
              "  "
            ]
          },
          "metadata": {},
          "execution_count": 1
        }
      ],
      "source": [
        "%matplotlib inline\n",
        "import numpy as np\n",
        "import pandas as pd\n",
        "import matplotlib.pyplot as plt\n",
        "from mpl_toolkits.mplot3d import Axes3D\n",
        "from sklearn.cluster import KMeans\n",
        "plt.rcParams['figure.figsize'] = (8, 4.5)\n",
        "\n",
        "dataset = pd.read_csv(\"https://raw.githubusercontent.com/DBottin/CLU/main/edlich-kmeans-A0.csv\")\n",
        "X = dataset[\"V1\"]\n",
        "Y = dataset[\"V2\"]\n",
        "Z = dataset[\"V3\"]\n",
        "dataset"
      ]
    },
    {
      "cell_type": "markdown",
      "source": [
        "Dataset grafisch anzeigen lassen:"
      ],
      "metadata": {
        "id": "Vgy8geeznags"
      }
    },
    {
      "cell_type": "code",
      "execution_count": 2,
      "metadata": {
        "id": "CsbI27_MUiy1",
        "outputId": "43432380-0f03-4ab4-cbb2-4b7130fa6ee0",
        "colab": {
          "base_uri": "https://localhost:8080/",
          "height": 337
        }
      },
      "outputs": [
        {
          "output_type": "execute_result",
          "data": {
            "text/plain": [
              "<mpl_toolkits.mplot3d.art3d.Path3DCollection at 0x7f75e6cb2a90>"
            ]
          },
          "metadata": {},
          "execution_count": 2
        },
        {
          "output_type": "display_data",
          "data": {
            "text/plain": [
              "<Figure size 432x288 with 1 Axes>"
            ],
            "image/png": "[encoded data removed]"
          },
          "metadata": {
            "needs_background": "light"
          }
        }
      ],
      "source": [
        "fig = plt.figure()\n",
        "ax = Axes3D(fig)\n",
        "ax.scatter(X, Y, Z)"
      ]
    },
    {
      "cell_type": "markdown",
      "source": [
        "Aus dem Graph ist klar, dass k=5 das beste k ist.\n",
        "\n",
        "Hier ist der Beweis (Elbow Effect):"
      ],
      "metadata": {
        "id": "n4Kj_Ow4nfiL"
      }
    },
    {
      "cell_type": "code",
      "execution_count": 3,
      "metadata": {
        "collapsed": true,
        "id": "YRgVxEeJUiy3",
        "colab": {
          "base_uri": "https://localhost:8080/",
          "height": 283
        },
        "outputId": "cc4d3c03-0f1a-44c6-a660-9169f4f421b6"
      },
      "outputs": [
        {
          "output_type": "execute_result",
          "data": {
            "text/plain": [
              "[<matplotlib.lines.Line2D at 0x7f75e441e0d0>]"
            ]
          },
          "metadata": {},
          "execution_count": 3
        },
        {
          "output_type": "display_data",
          "data": {
            "text/plain": [
              "<Figure size 432x288 with 1 Axes>"
            ],
            "image/png": "[encoded data removed]"
          },
          "metadata": {
            "needs_background": "light"
          }
        }
      ],
      "source": [
        "total_distance = []\n",
        "\n",
        "for k in range(1, 11): #Für 1-10 Cluster probieren\n",
        "    kmeans = KMeans(n_clusters=k) #Clusteranzahl im aktuellen Versuch festlegen\n",
        "    kmeans = kmeans.fit(dataset)\n",
        "    labels = kmeans.predict(dataset) #Jeden Punkt einem Cluster zuordnen\n",
        "    C = kmeans.cluster_centers_ #Ideale Mittelpunkte finden\n",
        "    curr_distance = 0\n",
        "    \n",
        "    for i in range(len(dataset)): #Für jeden Punkt im Dataset\n",
        "      curr_center = C[labels[i]] #Mitte finden vom Cluster, zu der der Punkt gehört\n",
        "      curr_distance += (dataset.loc[i].at[\"V1\"] - curr_center[0]) ** 2 + (dataset.loc[i].at[\"V2\"] - curr_center[1]) ** 2 + (dataset.loc[i].at[\"V3\"] - curr_center[2]) ** 2 #Abstand zur Mitte berechnen\n",
        "    \n",
        "    total_distance.append(curr_distance) #Für jedes k den Gesamtabstand in einem array speichern\n",
        "  \n",
        "count = [1,2,3,4,5,6,7,8,9,10]\n",
        "plt.plot(count, total_distance)"
      ]
    },
    {
      "cell_type": "markdown",
      "source": [
        "Nun, da wir wissen, dass k=5 ideal ist, können wir den Clustering Vector berechnen:"
      ],
      "metadata": {
        "id": "0GRxcFvppROE"
      }
    },
    {
      "cell_type": "code",
      "execution_count": 4,
      "metadata": {
        "id": "BSRs9XV2Uiy3",
        "outputId": "ea180e41-552a-4c95-ad1f-95ef8df646d7",
        "colab": {
          "base_uri": "https://localhost:8080/"
        }
      },
      "outputs": [
        {
          "output_type": "execute_result",
          "data": {
            "text/plain": [
              "array([3, 2, 2, 1, 2, 4, 1, 2, 0, 1, 2, 0, 1, 4, 3, 2, 0, 4, 3, 3, 2, 0,\n",
              "       3, 2, 2, 1, 0, 0, 0, 4, 0, 0, 4, 4, 2, 3, 4, 3, 0, 2, 4, 4, 4, 3,\n",
              "       4, 2, 1, 1, 4, 1, 1, 4, 0, 0, 1, 1, 3, 1, 2, 4, 1, 3, 1, 1, 4, 1,\n",
              "       3, 3, 3, 4, 4, 1, 0, 1, 1, 0, 2, 4, 1, 0, 0, 4, 2, 3, 3, 2, 3, 3,\n",
              "       3, 1, 0, 0, 0, 2, 1, 1, 0, 4, 3, 3], dtype=int32)"
            ]
          },
          "metadata": {},
          "execution_count": 4
        }
      ],
      "source": [
        "kmeans = KMeans(n_clusters=5) #Wir wissen, dass es 5 Cluster geben soll\n",
        "kmeans = kmeans.fit(dataset)\n",
        "labels = kmeans.predict(dataset) #Punkte den Clustern zuordnen\n",
        "labels"
      ]
    },
    {
      "cell_type": "markdown",
      "source": [
        "Zuletzt kann der Clustering Vector zu jedem Punkt im Dataset zugefügt werden:"
      ],
      "metadata": {
        "id": "kRaFELbPpyeK"
      }
    },
    {
      "cell_type": "code",
      "source": [
        "dataset['Clustering_vector'] = labels\n",
        "dataset"
      ],
      "metadata": {
        "colab": {
          "base_uri": "https://localhost:8080/",
          "height": 424
        },
        "id": "wsr5sfiSmE5z",
        "outputId": "7cd038c3-13d0-4c1e-cee1-a9996b0b7c8f"
      },
      "execution_count": 5,
      "outputs": [
        {
          "output_type": "execute_result",
          "data": {
            "text/plain": [
              "          V1         V2         V3  Clustering_vector\n",
              "0  -5.340236   4.747246   3.823326                  3\n",
              "1  -9.587065  -3.434466   9.701839                  2\n",
              "2  -8.385012  -3.902794   8.514620                  2\n",
              "3   5.708226   2.658575   5.404482                  1\n",
              "4  -7.431665  -4.390251   9.003216                  2\n",
              "..       ...        ...        ...                ...\n",
              "95  5.240474   2.983800   5.104915                  1\n",
              "96 -1.675543   3.780111  -8.060940                  0\n",
              "97  2.979751  10.772783 -10.093143                  4\n",
              "98 -5.154519   5.976515   2.794622                  3\n",
              "99 -4.878509   5.096635   5.659783                  3\n",
              "\n",
              "[100 rows x 4 columns]"
            ],
            "text/html": [
              "\n",
              "  <div id=\"df-d48d0637-2b38-4633-880c-fad5bb0cf749\">\n",
              "    <div class=\"colab-df-container\">\n",
              "      <div>\n",
              "<style scoped>\n",
              "    .dataframe tbody tr th:only-of-type {\n",
              "        vertical-align: middle;\n",
              "    }\n",
              "\n",
              "    .dataframe tbody tr th {\n",
              "        vertical-align: top;\n",
              "    }\n",
              "\n",
              "    .dataframe thead th {\n",
              "        text-align: right;\n",
              "    }\n",
              "</style>\n",
              "<table border=\"1\" class=\"dataframe\">\n",
              "  <thead>\n",
              "    <tr style=\"text-align: right;\">\n",
              "      <th></th>\n",
              "      <th>V1</th>\n",
              "      <th>V2</th>\n",
              "      <th>V3</th>\n",
              "      <th>Clustering_vector</th>\n",
              "    </tr>\n",
              "  </thead>\n",
              "  <tbody>\n",
              "    <tr>\n",
              "      <th>0</th>\n",
              "      <td>-5.340236</td>\n",
              "      <td>4.747246</td>\n",
              "      <td>3.823326</td>\n",
              "      <td>3</td>\n",
              "    </tr>\n",
              "    <tr>\n",
              "      <th>1</th>\n",
              "      <td>-9.587065</td>\n",
              "      <td>-3.434466</td>\n",
              "      <td>9.701839</td>\n",
              "      <td>2</td>\n",
              "    </tr>\n",
              "    <tr>\n",
              "      <th>2</th>\n",
              "      <td>-8.385012</td>\n",
              "      <td>-3.902794</td>\n",
              "      <td>8.514620</td>\n",
              "      <td>2</td>\n",
              "    </tr>\n",
              "    <tr>\n",
              "      <th>3</th>\n",
              "      <td>5.708226</td>\n",
              "      <td>2.658575</td>\n",
              "      <td>5.404482</td>\n",
              "      <td>1</td>\n",
              "    </tr>\n",
              "    <tr>\n",
              "      <th>4</th>\n",
              "      <td>-7.431665</td>\n",
              "      <td>-4.390251</td>\n",
              "      <td>9.003216</td>\n",
              "      <td>2</td>\n",
              "    </tr>\n",
              "    <tr>\n",
              "      <th>...</th>\n",
              "      <td>...</td>\n",
              "      <td>...</td>\n",
              "      <td>...</td>\n",
              "      <td>...</td>\n",
              "    </tr>\n",
              "    <tr>\n",
              "      <th>95</th>\n",
              "      <td>5.240474</td>\n",
              "      <td>2.983800</td>\n",
              "      <td>5.104915</td>\n",
              "      <td>1</td>\n",
              "    </tr>\n",
              "    <tr>\n",
              "      <th>96</th>\n",
              "      <td>-1.675543</td>\n",
              "      <td>3.780111</td>\n",
              "      <td>-8.060940</td>\n",
              "      <td>0</td>\n",
              "    </tr>\n",
              "    <tr>\n",
              "      <th>97</th>\n",
              "      <td>2.979751</td>\n",
              "      <td>10.772783</td>\n",
              "      <td>-10.093143</td>\n",
              "      <td>4</td>\n",
              "    </tr>\n",
              "    <tr>\n",
              "      <th>98</th>\n",
              "      <td>-5.154519</td>\n",
              "      <td>5.976515</td>\n",
              "      <td>2.794622</td>\n",
              "      <td>3</td>\n",
              "    </tr>\n",
              "    <tr>\n",
              "      <th>99</th>\n",
              "      <td>-4.878509</td>\n",
              "      <td>5.096635</td>\n",
              "      <td>5.659783</td>\n",
              "      <td>3</td>\n",
              "    </tr>\n",
              "  </tbody>\n",
              "</table>\n",
              "<p>100 rows × 4 columns</p>\n",
              "</div>\n",
              "      <button class=\"colab-df-convert\" onclick=\"convertToInteractive('df-d48d0637-2b38-4633-880c-fad5bb0cf749')\"\n",
              "              title=\"Convert this dataframe to an interactive table.\"\n",
              "              style=\"display:none;\">\n",
              "        \n",
              "  <svg xmlns=\"http://www.w3.org/2000/svg\" height=\"24px\"viewBox=\"0 0 24 24\"\n",
              "       width=\"24px\">\n",
              "    <path d=\"M0 0h24v24H0V0z\" fill=\"none\"/>\n",
              "    <path d=\"M18.56 5.44l.94 2.06.94-2.06 2.06-.94-2.06-.94-.94-2.06-.94 2.06-2.06.94zm-11 1L8.5 8.5l.94-2.06 2.06-.94-2.06-.94L8.5 2.5l-.94 2.06-2.06.94zm10 10l.94 2.06.94-2.06 2.06-.94-2.06-.94-.94-2.06-.94 2.06-2.06.94z\"/><path d=\"M17.41 7.96l-1.37-1.37c-.4-.4-.92-.59-1.43-.59-.52 0-1.04.2-1.43.59L10.3 9.45l-7.72 7.72c-.78.78-.78 2.05 0 2.83L4 21.41c.39.39.9.59 1.41.59.51 0 1.02-.2 1.41-.59l7.78-7.78 2.81-2.81c.8-.78.8-2.07 0-2.86zM5.41 20L4 18.59l7.72-7.72 1.47 1.35L5.41 20z\"/>\n",
              "  </svg>\n",
              "      </button>\n",
              "      \n",
              "  <style>\n",
              "    .colab-df-container {\n",
              "      display:flex;\n",
              "      flex-wrap:wrap;\n",
              "      gap: 12px;\n",
              "    }\n",
              "\n",
              "    .colab-df-convert {\n",
              "      background-color: #E8F0FE;\n",
              "      border: none;\n",
              "      border-radius: 50%;\n",
              "      cursor: pointer;\n",
              "      display: none;\n",
              "      fill: #1967D2;\n",
              "      height: 32px;\n",
              "      padding: 0 0 0 0;\n",
              "      width: 32px;\n",
              "    }\n",
              "\n",
              "    .colab-df-convert:hover {\n",
              "      background-color: #E2EBFA;\n",
              "      box-shadow: 0px 1px 2px rgba(60, 64, 67, 0.3), 0px 1px 3px 1px rgba(60, 64, 67, 0.15);\n",
              "      fill: #174EA6;\n",
              "    }\n",
              "\n",
              "    [theme=dark] .colab-df-convert {\n",
              "      background-color: #3B4455;\n",
              "      fill: #D2E3FC;\n",
              "    }\n",
              "\n",
              "    [theme=dark] .colab-df-convert:hover {\n",
              "      background-color: #434B5C;\n",
              "      box-shadow: 0px 1px 3px 1px rgba(0, 0, 0, 0.15);\n",
              "      filter: drop-shadow(0px 1px 2px rgba(0, 0, 0, 0.3));\n",
              "      fill: #FFFFFF;\n",
              "    }\n",
              "  </style>\n",
              "\n",
              "      <script>\n",
              "        const buttonEl =\n",
              "          document.querySelector('#df-d48d0637-2b38-4633-880c-fad5bb0cf749 button.colab-df-convert');\n",
              "        buttonEl.style.display =\n",
              "          google.colab.kernel.accessAllowed ? 'block' : 'none';\n",
              "\n",
              "        async function convertToInteractive(key) {\n",
              "          const element = document.querySelector('#df-d48d0637-2b38-4633-880c-fad5bb0cf749');\n",
              "          const dataTable =\n",
              "            await google.colab.kernel.invokeFunction('convertToInteractive',\n",
              "                                                     [key], {});\n",
              "          if (!dataTable) return;\n",
              "\n",
              "          const docLinkHtml = 'Like what you see? Visit the ' +\n",
              "            '<a target=\"_blank\" href=https://colab.research.google.com/notebooks/data_table.ipynb>data table notebook</a>'\n",
              "            + ' to learn more about interactive tables.';\n",
              "          element.innerHTML = '';\n",
              "          dataTable['output_type'] = 'display_data';\n",
              "          await google.colab.output.renderOutput(dataTable, element);\n",
              "          const docLink = document.createElement('div');\n",
              "          docLink.innerHTML = docLinkHtml;\n",
              "          element.appendChild(docLink);\n",
              "        }\n",
              "      </script>\n",
              "    </div>\n",
              "  </div>\n",
              "  "
            ]
          },
          "metadata": {},
          "execution_count": 5
        }
      ]
    }
  ],
  "metadata": {
    "kernelspec": {
      "display_name": "Python 3",
      "language": "python",
      "name": "python3"
    },
    "language_info": {
      "codemirror_mode": {
        "name": "ipython",
        "version": 3
      },
      "file_extension": ".py",
      "mimetype": "text/x-python",
      "name": "python",
      "nbconvert_exporter": "python",
      "pygments_lexer": "ipython3",
      "version": "3.6.3"
    },
    "colab": {
      "name": "Clustering.ipynb",
      "provenance": []
    }
  },
  "nbformat": 4,
  "nbformat_minor": 0
}